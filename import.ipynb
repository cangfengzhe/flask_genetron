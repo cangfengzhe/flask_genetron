{
 "cells": [
  {
   "cell_type": "code",
   "execution_count": 1,
   "metadata": {
    "collapsed": true
   },
   "outputs": [],
   "source": [
    "#coding=utf-8\n",
    "from app import create_app, db\n",
    "from flask import g, jsonify\n",
    "from flask_login import login_user, logout_user, login_required, \\\n",
    "    current_user\n",
    "import os\n",
    "import datetime\n",
    "from  app.genetron.models import  *\n",
    "# from app.models import *\n",
    "from app.genetron.views import *\n",
    "app = create_app('development')\n",
    "app_context = app.app_context()\n",
    "app_context.push()\n",
    "from app.genetron.views import *\n",
    "import sqlalchemy\n",
    "from app.models import *"
   ]
  },
  {
   "cell_type": "code",
   "execution_count": 2,
   "metadata": {
    "collapsed": true
   },
   "outputs": [],
   "source": [
    "sfs = Sample_flowcell.query.all()"
   ]
  },
  {
   "cell_type": "code",
   "execution_count": 3,
   "metadata": {
    "collapsed": true
   },
   "outputs": [],
   "source": [
    "def get_time(item_type):\n",
    "    item = sf.sample_time.filter_by(item_type = item_type).order_by(sqlalchemy.desc(Sample_time_info.id)).first()\n",
    "    if item:\n",
    "        return item.item_time\n",
    "    else:\n",
    "        return None"
   ]
  },
  {
   "cell_type": "code",
   "execution_count": 5,
   "metadata": {
    "collapsed": false
   },
   "outputs": [],
   "source": [
    "for sf in sfs:\n",
    "    sf_info = Sample_flowcell_info()\n",
    "    sf_info.sample_flowcell = sf.id\n",
    "    sf_info.class_time = get_time('class')\n",
    "    sf_info.submit_time = get_time('submit')\n",
    "    sf_info.bioinfo_finish_time = get_time('bioinfo_finish')\n",
    "    sf_info.bioinfo_report_time = get_time('bioinfo_report')\n",
    "    sf_info.bioinfo_finish = True\n",
    "    sf_info.finish = True\n",
    "    db.session.add(sf_info)\n",
    "    db.session.commit()\n"
   ]
  },
  {
   "cell_type": "code",
   "execution_count": null,
   "metadata": {
    "collapsed": true
   },
   "outputs": [],
   "source": []
  }
 ],
 "metadata": {
  "kernelspec": {
   "display_name": "Python 2",
   "language": "python",
   "name": "python2"
  },
  "language_info": {
   "codemirror_mode": {
    "name": "ipython",
    "version": 2
   },
   "file_extension": ".py",
   "mimetype": "text/x-python",
   "name": "python",
   "nbconvert_exporter": "python",
   "pygments_lexer": "ipython2",
   "version": "2.7.6"
  }
 },
 "nbformat": 4,
 "nbformat_minor": 1
}
