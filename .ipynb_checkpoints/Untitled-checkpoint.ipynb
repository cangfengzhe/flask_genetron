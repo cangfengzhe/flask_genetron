{
 "cells": [
  {
   "cell_type": "code",
   "execution_count": 3,
   "metadata": {
    "collapsed": false
   },
   "outputs": [],
   "source": [
    "#!/usr/bin/env python3\n",
    "# Project: flask_genetron\n",
    "# Filename: import_db.py\n",
    "# Description: \n",
    "# Author: Li Pidong\n",
    "# E-mail: hope-dream@163.com\n",
    "# Created: 22/10/16 20:25 \n",
    "# Version:\n",
    "# Last-Updated:\n",
    "\n",
    "# from app import create_app, db\n",
    "\n",
    "# import os\n",
    "# from  app.genetron.models import Table, Patient\n",
    "import pandas as pd\n",
    "\n",
    "\n",
    "# app = create_app('development')\n",
    "# app_context = app.app_context()\n",
    "# app_context.push()\n",
    "# db.create_all()\n",
    "# for ii in range(100):\n",
    "#     aa=Table(name='name'+str(ii), age=ii)\n",
    "#     patient=Patient(patient_id='PA0'+str(ii), name='fad', age=11, tissue='tissue', cancer='cancer', start_time=None, finish_time=None)\n",
    "#     db.session.add(aa)\n",
    "#     db.session.add(patient)\n",
    "# db.session.commit()\n",
    "info_data=pd.read_excel('/Users/lipidong/Downloads/项目进展1021.xlsx')\n",
    "\n"
   ]
  },
  {
   "cell_type": "code",
   "execution_count": 12,
   "metadata": {
    "collapsed": true
   },
   "outputs": [],
   "source": [
    "#coding=utf-8\n",
    "from app import create_app, db\n",
    "\n",
    "import os\n",
    "import datetime\n",
    "from  app.genetron.models import  *\n",
    "app = create_app('development')\n",
    "app_context = app.app_context()\n",
    "app_context.push()"
   ]
  },
  {
   "cell_type": "code",
   "execution_count": 13,
   "metadata": {
    "collapsed": true
   },
   "outputs": [],
   "source": [
    "from threading import Thread\n",
    "from flask import current_app, render_template\n",
    "from flask_mail import Message\n",
    "from app import mail"
   ]
  },
  {
   "cell_type": "code",
   "execution_count": 14,
   "metadata": {
    "collapsed": true
   },
   "outputs": [],
   "source": [
    "from app.email import send_email"
   ]
  },
  {
   "cell_type": "code",
   "execution_count": 22,
   "metadata": {
    "collapsed": true
   },
   "outputs": [],
   "source": [
    "def send_email(to, subject, template, **kwargs):\n",
    "#     app = current_app._get_current_object()\n",
    "    msg = Message(app.config['FLASKY_MAIL_SUBJECT_PREFIX'] + ' ' + subject,\n",
    "                  sender=app.config['FLASKY_MAIL_SENDER'], recipients=[to])\n",
    "    msg.body = 'aaa'\n",
    "    msg.html = 'aaa'\n",
    "    mail.send(msg)\n",
    "    thr = Thread(target=send_async_email, args=[app, msg])\n",
    "    thr.start()\n",
    "    print('send email')\n",
    "    return thr"
   ]
  },
  {
   "cell_type": "code",
   "execution_count": null,
   "metadata": {
    "collapsed": true
   },
   "outputs": [],
   "source": [
    "send_email('pidong.li@genetronhealth.com', 'sad', 'adsf')"
   ]
  },
  {
   "cell_type": "code",
   "execution_count": null,
   "metadata": {
    "collapsed": true
   },
   "outputs": [],
   "source": []
  }
 ],
 "metadata": {
  "kernelspec": {
   "display_name": "Python 2",
   "language": "python",
   "name": "python2"
  },
  "language_info": {
   "codemirror_mode": {
    "name": "ipython",
    "version": 2
   },
   "file_extension": ".py",
   "mimetype": "text/x-python",
   "name": "python",
   "nbconvert_exporter": "python",
   "pygments_lexer": "ipython2",
   "version": "2.7.6"
  }
 },
 "nbformat": 4,
 "nbformat_minor": 1
}
